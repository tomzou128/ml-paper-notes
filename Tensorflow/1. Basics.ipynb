{
 "cells": [
  {
   "cell_type": "markdown",
   "metadata": {},
   "source": [
    "## Library included:"
   ]
  },
  {
   "cell_type": "code",
   "execution_count": 1,
   "metadata": {},
   "outputs": [],
   "source": [
    "import tensorflow as tf\n",
    "import numpy as np"
   ]
  },
  {
   "cell_type": "markdown",
   "metadata": {},
   "source": [
    "## Simple regression\n",
    "There is only a loss function in here, the aim is to find a 'w' that amkes the loss function equal to 0. The answer should be -1."
   ]
  },
  {
   "cell_type": "code",
   "execution_count": 2,
   "metadata": {
    "scrolled": false
   },
   "outputs": [
    {
     "name": "stdout",
     "output_type": "stream",
     "text": [
      "After 0 epoch,w is 2.600000,loss is 36.000000\n",
      "After 5 epoch,w is -0.720064,loss is 0.217678\n",
      "After 10 epoch,w is -0.978232,loss is 0.001316\n",
      "After 15 epoch,w is -0.998307,loss is 0.000008\n",
      "After 20 epoch,w is -0.999868,loss is 0.000000\n",
      "After 25 epoch,w is -0.999990,loss is 0.000000\n",
      "After 30 epoch,w is -0.999999,loss is 0.000000\n"
     ]
    }
   ],
   "source": [
    "w = tf.Variable(tf.constant(5, dtype=tf.float32))\n",
    "lr = 0.2\n",
    "epoch = 31\n",
    "\n",
    "for epoch in range(epoch):  # 定義頂層循環\n",
    "    with tf.GradientTape() as tape: # 這裡面裝著 loss function\n",
    "        loss = tf.square(w + 1)\n",
    "    grads = tape.gradient(loss, w)  # tape.gradient(loss, w) 告知 loss 對 w 求導，返回結果\n",
    "\n",
    "    w.assign_sub(lr * grads)  # .assign_sub 对变量做自减 即：w -= lr*grads 即 w = w - lr*grads\n",
    "    if epoch % 5 == 0:\n",
    "        print(\"After %s epoch,w is %f,loss is %f\" % (epoch, w.numpy(), loss))\n",
    "\n",
    "# lr初始值：0.2   请自改学习率  0.001  0.999 看收敛过程\n",
    "# 最终目的：找到 loss 最小 即 w = -1 的最优参数w"
   ]
  },
  {
   "cell_type": "markdown",
   "metadata": {},
   "source": [
    "## Tensor\n",
    "Tensor is like an array. It can be of any dimension and contains value of many types. <br>\n",
    "\n",
    "| Dimension | Name | Example |\n",
    "|--|--|:--|\n",
    "|0-D|Scalar|s = 123|\n",
    "|1-D|Vector|v = [1, 2, 3]|\n",
    "|2-D|Matrix|m = [[1, 2, 3], [4, 5, 6], [7, 8, 9]]\n",
    "|n-D|Tensor|t = [[[..|\n",
    "\n",
    "The number of '[' indicate the dimension of tensor.\n",
    "\n",
    "### Create a tensor\n",
    "```tf.constant(<content>, dtype = <optional_datatype>)``` <br>\n",
    "The vectors are placed horizontally. The first number in shape represent the dimension of the tensor, the second number represent the dirmension in each element.\n",
    "\n",
    "### Data type\n",
    "* tf.int, tf.float <br>\n",
    "```tf.int32```, ```tf.float32```, ```tf.float 64```.\n",
    "\n",
    "* tf.bool <br>\n",
    "```tf.constant([True, False])```\n",
    "\n",
    "* tf.string <br>\n",
    "```tf.constant(\"Hello, world!\")```"
   ]
  },
  {
   "cell_type": "code",
   "execution_count": 3,
   "metadata": {},
   "outputs": [
    {
     "name": "stdout",
     "output_type": "stream",
     "text": [
      "tf.Tensor([1 4 5], shape=(3,), dtype=int64)\n",
      "<dtype: 'int64'>\n",
      "(3,)\n"
     ]
    }
   ],
   "source": [
    "a = tf.constant([1, 4, 5], dtype = tf.int64)\n",
    "print(a)\n",
    "print(a.dtype)\n",
    "print(a.shape)"
   ]
  },
  {
   "cell_type": "code",
   "execution_count": 4,
   "metadata": {
    "scrolled": true
   },
   "outputs": [
    {
     "name": "stdout",
     "output_type": "stream",
     "text": [
      "tf.Tensor(\n",
      "[[1 4]\n",
      " [3 5]\n",
      " [5 8]], shape=(3, 2), dtype=int64)\n",
      "<dtype: 'int64'>\n",
      "(3, 2)\n"
     ]
    }
   ],
   "source": [
    "a = tf.constant([[1, 4], [3, 5], [5, 8]], dtype = tf.int64)\n",
    "print(a)\n",
    "print(a.dtype)\n",
    "print(a.shape)"
   ]
  },
  {
   "cell_type": "markdown",
   "metadata": {},
   "source": [
    "### Create special tensor\n",
    "Create Zeros tensor, ones tensor and tensor with certain value."
   ]
  },
  {
   "cell_type": "code",
   "execution_count": 5,
   "metadata": {},
   "outputs": [
    {
     "name": "stdout",
     "output_type": "stream",
     "text": [
      "tf.Tensor([0. 0. 0. 0. 0.], shape=(5,), dtype=float32)\n",
      "tf.Tensor(\n",
      "[[1. 1. 1.]\n",
      " [1. 1. 1.]], shape=(2, 3), dtype=float32)\n",
      "tf.Tensor(\n",
      "[[3 3]\n",
      " [3 3]], shape=(2, 2), dtype=int32)\n"
     ]
    }
   ],
   "source": [
    "print(tf.zeros(5))\n",
    "print(tf.ones([2,3]))\n",
    "print(tf.fill([2,2], 3))"
   ]
  },
  {
   "cell_type": "markdown",
   "metadata": {},
   "source": [
    "### Create tensor from numpy"
   ]
  },
  {
   "cell_type": "code",
   "execution_count": 6,
   "metadata": {},
   "outputs": [
    {
     "name": "stdout",
     "output_type": "stream",
     "text": [
      "[0 1 2 3 4]\n",
      "tf.Tensor([0 1 2 3 4], shape=(5,), dtype=int64)\n"
     ]
    }
   ],
   "source": [
    "a = np.arange(0, 5)\n",
    "b = tf.convert_to_tensor(a, dtype=tf.int64)\n",
    "print(a)\n",
    "print(b)"
   ]
  },
  {
   "cell_type": "markdown",
   "metadata": {},
   "source": [
    "### Create tensor from normal distribution\n",
    "First parameter is the dimension of the tensor. Default mean is 0 and SD is 1."
   ]
  },
  {
   "cell_type": "code",
   "execution_count": 7,
   "metadata": {
    "scrolled": true
   },
   "outputs": [
    {
     "name": "stdout",
     "output_type": "stream",
     "text": [
      "tf.Tensor(\n",
      "[[54.145004 54.562878 19.547676 46.921375 60.87916 ]\n",
      " [46.70141  46.667973 35.0382   58.802418 54.163006]], shape=(2, 5), dtype=float32)\n"
     ]
    }
   ],
   "source": [
    "print(tf.random.normal([2, 5], mean = 50, stddev = 15))"
   ]
  },
  {
   "cell_type": "markdown",
   "metadata": {},
   "source": [
    "More centered values. If the values are all inside (mean - 2 * SD, mean + 2 * SD)."
   ]
  },
  {
   "cell_type": "code",
   "execution_count": 8,
   "metadata": {},
   "outputs": [
    {
     "name": "stdout",
     "output_type": "stream",
     "text": [
      "tf.Tensor(\n",
      "[[42.49601  66.07817  49.463253 51.933193 56.431747]\n",
      " [52.092037 38.015923 70.97705  56.08771  39.77851 ]], shape=(2, 5), dtype=float32)\n"
     ]
    }
   ],
   "source": [
    "print(tf.random.truncated_normal([2, 5], 50, 15))"
   ]
  },
  {
   "cell_type": "markdown",
   "metadata": {},
   "source": [
    "### Create tensor from uniform distribution"
   ]
  },
  {
   "cell_type": "code",
   "execution_count": 9,
   "metadata": {},
   "outputs": [
    {
     "name": "stdout",
     "output_type": "stream",
     "text": [
      "tf.Tensor(\n",
      "[[82.88438   14.931198   4.87821   40.19487   29.956982 ]\n",
      " [ 7.9153237 41.451706  20.707136  11.394931  71.61198  ]], shape=(2, 5), dtype=float32)\n"
     ]
    }
   ],
   "source": [
    "print(tf.random.uniform([2, 5], minval = 1, maxval = 100))"
   ]
  },
  {
   "cell_type": "markdown",
   "metadata": {},
   "source": [
    "## Tensor operations\n",
    "### Type transform"
   ]
  },
  {
   "cell_type": "code",
   "execution_count": 10,
   "metadata": {},
   "outputs": [
    {
     "name": "stdout",
     "output_type": "stream",
     "text": [
      "tf.Tensor([1. 2.], shape=(2,), dtype=float32)\n"
     ]
    }
   ],
   "source": [
    "a = tf.constant([1, 2], tf.int32)\n",
    "b = tf.cast(a, tf.float32)\n",
    "print(b)"
   ]
  },
  {
   "cell_type": "markdown",
   "metadata": {},
   "source": [
    "### Find maximum and minimum\n",
    "The return is also of tensor type."
   ]
  },
  {
   "cell_type": "code",
   "execution_count": 11,
   "metadata": {
    "scrolled": true
   },
   "outputs": [
    {
     "name": "stdout",
     "output_type": "stream",
     "text": [
      "tf.Tensor(4, shape=(), dtype=int32)\n",
      "tf.Tensor(1, shape=(), dtype=int32)\n"
     ]
    }
   ],
   "source": [
    "a = tf.constant([[1, 2], [3, 4]], tf.int32)\n",
    "print(tf.reduce_max(a))\n",
    "print(tf.reduce_min(a))"
   ]
  },
  {
   "cell_type": "markdown",
   "metadata": {},
   "source": [
    "### + - * / Calculation\n",
    "For tensors with same dimensions."
   ]
  },
  {
   "cell_type": "code",
   "execution_count": 12,
   "metadata": {},
   "outputs": [
    {
     "name": "stdout",
     "output_type": "stream",
     "text": [
      "tf.Tensor(\n",
      "[[4. 4.]\n",
      " [4. 4.]], shape=(2, 2), dtype=float32)\n",
      "tf.Tensor(\n",
      "[[2. 2.]\n",
      " [2. 2.]], shape=(2, 2), dtype=float32)\n",
      "tf.Tensor(\n",
      "[[3. 3.]\n",
      " [3. 3.]], shape=(2, 2), dtype=float32)\n",
      "tf.Tensor(\n",
      "[[3. 3.]\n",
      " [3. 3.]], shape=(2, 2), dtype=float32)\n"
     ]
    }
   ],
   "source": [
    "a = tf.fill([2, 2], 3.)    # Use '3.' to set the type to float\n",
    "b = tf.ones([2, 2])\n",
    "print(tf.add(a, b))\n",
    "print(tf.subtract(a, b))\n",
    "print(tf.multiply(a, b))\n",
    "print(tf.divide(a, b))"
   ]
  },
  {
   "cell_type": "markdown",
   "metadata": {},
   "source": [
    "### Power calculation\n",
    "Include square, power and square root calculations."
   ]
  },
  {
   "cell_type": "code",
   "execution_count": 13,
   "metadata": {},
   "outputs": [
    {
     "name": "stdout",
     "output_type": "stream",
     "text": [
      "tf.Tensor(\n",
      "[[9. 9.]\n",
      " [9. 9.]], shape=(2, 2), dtype=float32)\n",
      "tf.Tensor(\n",
      "[[27. 27.]\n",
      " [27. 27.]], shape=(2, 2), dtype=float32)\n",
      "tf.Tensor(\n",
      "[[1.7320508 1.7320508]\n",
      " [1.7320508 1.7320508]], shape=(2, 2), dtype=float32)\n"
     ]
    }
   ],
   "source": [
    "print(tf.square(a))\n",
    "print(tf.pow(a, 3))\n",
    "print(tf.sqrt(a))"
   ]
  },
  {
   "cell_type": "markdown",
   "metadata": {},
   "source": [
    "### Matrix multiplication"
   ]
  },
  {
   "cell_type": "code",
   "execution_count": 14,
   "metadata": {},
   "outputs": [
    {
     "name": "stdout",
     "output_type": "stream",
     "text": [
      "tf.Tensor(\n",
      "[[6. 6.]\n",
      " [6. 6.]], shape=(2, 2), dtype=float32)\n"
     ]
    }
   ],
   "source": [
    "print(tf.matmul(a, b))"
   ]
  },
  {
   "cell_type": "markdown",
   "metadata": {},
   "source": [
    "### Axix\n",
    "In a 2D tensor, we can conduct operation along a axis and return the results in a vector form, through axis setting. axis = 0 means every column is a group, axis = 1 means every row is a group. If the axis is not given, the operation include all elements in the tensor."
   ]
  },
  {
   "cell_type": "code",
   "execution_count": 15,
   "metadata": {},
   "outputs": [
    {
     "name": "stdout",
     "output_type": "stream",
     "text": [
      "tf.Tensor(\n",
      "[[1 2]\n",
      " [3 4]\n",
      " [5 6]], shape=(3, 2), dtype=int32)\n",
      "tf.Tensor(3, shape=(), dtype=int32)\n",
      "tf.Tensor([3 4], shape=(2,), dtype=int32)\n",
      "tf.Tensor([ 3  7 11], shape=(3,), dtype=int32)\n"
     ]
    }
   ],
   "source": [
    "a = tf.constant([[1, 2], [3, 4], [5, 6]])\n",
    "print(a)\n",
    "print(tf.reduce_mean(a))    # Mean for all elements\n",
    "print(tf.reduce_mean(a, 0))    # Mean for each column\n",
    "print(tf.reduce_sum(a, 1))"
   ]
  },
  {
   "cell_type": "markdown",
   "metadata": {},
   "source": [
    "### Find index of maximum and minimum"
   ]
  },
  {
   "cell_type": "code",
   "execution_count": 16,
   "metadata": {},
   "outputs": [
    {
     "name": "stdout",
     "output_type": "stream",
     "text": [
      "test:\n",
      " [[1 2 3]\n",
      " [2 3 4]\n",
      " [5 4 3]\n",
      " [8 7 2]]\n",
      "Index of the largest in each column:  tf.Tensor([3 3 1], shape=(3,), dtype=int64)\n",
      "Index of the largest in each row:  tf.Tensor([2 2 0 0], shape=(4,), dtype=int64)\n"
     ]
    }
   ],
   "source": [
    "test = np.array([[1, 2, 3], [2, 3, 4], [5, 4, 3], [8, 7, 2]])\n",
    "print(\"test:\\n\", test)\n",
    "print(\"Index of the largest in each column: \", tf.argmax(test, axis=0))\n",
    "print(\"Index of the largest in each row: \", tf.argmax(test, axis=1))"
   ]
  },
  {
   "cell_type": "markdown",
   "metadata": {},
   "source": [
    "### Create dataset\n",
    "```tf.data.Dataset.from_tensor_slices((<features>, <labels>))``` <br>\n",
    "Input the input vector and output vector as key-value pair to make a dataset. This function works for both tensor and numpy."
   ]
  },
  {
   "cell_type": "code",
   "execution_count": 17,
   "metadata": {},
   "outputs": [
    {
     "name": "stdout",
     "output_type": "stream",
     "text": [
      "(<tf.Tensor: shape=(), dtype=int32, numpy=12>, <tf.Tensor: shape=(), dtype=int32, numpy=0>)\n",
      "(<tf.Tensor: shape=(), dtype=int32, numpy=23>, <tf.Tensor: shape=(), dtype=int32, numpy=1>)\n",
      "(<tf.Tensor: shape=(), dtype=int32, numpy=10>, <tf.Tensor: shape=(), dtype=int32, numpy=1>)\n",
      "(<tf.Tensor: shape=(), dtype=int32, numpy=17>, <tf.Tensor: shape=(), dtype=int32, numpy=0>)\n"
     ]
    }
   ],
   "source": [
    "features = tf.constant([12, 23, 10, 17])\n",
    "labels = tf.constant([0, 1, 1, 0])\n",
    "dataset = tf.data.Dataset.from_tensor_slices((features, labels))\n",
    "for element in dataset:\n",
    "    print(element)"
   ]
  },
  {
   "cell_type": "markdown",
   "metadata": {},
   "source": [
    "### Transfer dataset to One-hot form"
   ]
  },
  {
   "cell_type": "code",
   "execution_count": 18,
   "metadata": {},
   "outputs": [
    {
     "name": "stdout",
     "output_type": "stream",
     "text": [
      "result of labels1: tf.Tensor(\n",
      "[[0. 1. 0.]\n",
      " [1. 0. 0.]\n",
      " [0. 0. 1.]], shape=(3, 3), dtype=float32)\n"
     ]
    }
   ],
   "source": [
    "classes = 3\n",
    "labels = tf.constant([1, 0, 2])  # labels 有三個不同的 label\n",
    "output = tf.one_hot(labels, depth = classes)\n",
    "print(\"result of labels1:\", output)"
   ]
  },
  {
   "cell_type": "markdown",
   "metadata": {},
   "source": [
    "## Variable\n",
    "We can use ```tf.Variable()``` to make a variable to be trainable. The variable will then record its gradient through backpropagation. This will be done to all the parameters that we need to train."
   ]
  },
  {
   "cell_type": "code",
   "execution_count": 19,
   "metadata": {},
   "outputs": [],
   "source": [
    "w = tf.Variable(tf.random.normal([2, 2], 0, 1))"
   ]
  },
  {
   "cell_type": "markdown",
   "metadata": {},
   "source": [
    "### Gradient calculation\n",
    "Use ```with``` structure to record the computation of tensor, and use ```gradient()``` to calculate the gradient of this tensor."
   ]
  },
  {
   "cell_type": "code",
   "execution_count": 20,
   "metadata": {},
   "outputs": [
    {
     "name": "stdout",
     "output_type": "stream",
     "text": [
      "tf.Tensor(6.0, shape=(), dtype=float32)\n"
     ]
    }
   ],
   "source": [
    "with tf.GradientTape() as tape:\n",
    "    x = tf.Variable(tf.constant(3.0))\n",
    "    loss = tf.pow(x, 2)\n",
    "grad = tape.gradient(loss, x)\n",
    "print(grad)    # 2 * 3.0"
   ]
  },
  {
   "cell_type": "markdown",
   "metadata": {},
   "source": [
    "### Softmax calculation"
   ]
  },
  {
   "cell_type": "code",
   "execution_count": 21,
   "metadata": {},
   "outputs": [
    {
     "name": "stdout",
     "output_type": "stream",
     "text": [
      "After softmax, y_pro is: tf.Tensor([0.25598174 0.69583046 0.0481878 ], shape=(3,), dtype=float32)\n"
     ]
    }
   ],
   "source": [
    "y = tf.constant([1.01, 2.01, -0.66])\n",
    "y_pro = tf.nn.softmax(y)\n",
    "print(\"After softmax, y_pro is:\", y_pro)  # y_pro 符合概率分佈"
   ]
  },
  {
   "cell_type": "markdown",
   "metadata": {},
   "source": [
    "### Update parameters\n",
    "The parameters must be trainable. <br>\n",
    "```w.assign_sub(x)``` is equal to ```w -= x```."
   ]
  },
  {
   "cell_type": "code",
   "execution_count": 22,
   "metadata": {},
   "outputs": [
    {
     "name": "stdout",
     "output_type": "stream",
     "text": [
      "<tf.Variable 'Variable:0' shape=() dtype=int32, numpy=3>\n"
     ]
    }
   ],
   "source": [
    "w = tf.Variable(4)\n",
    "w.assign_sub(1)\n",
    "print(w)"
   ]
  }
 ],
 "metadata": {
  "kernelspec": {
   "display_name": "Python 3",
   "language": "python",
   "name": "python3"
  },
  "language_info": {
   "codemirror_mode": {
    "name": "ipython",
    "version": 3
   },
   "file_extension": ".py",
   "mimetype": "text/x-python",
   "name": "python",
   "nbconvert_exporter": "python",
   "pygments_lexer": "ipython3",
   "version": "3.7.7"
  }
 },
 "nbformat": 4,
 "nbformat_minor": 4
}