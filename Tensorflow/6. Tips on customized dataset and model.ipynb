{
 "cells": [
  {
   "cell_type": "markdown",
   "metadata": {},
   "source": [
    "## Library included:"
   ]
  },
  {
   "cell_type": "code",
   "execution_count": 1,
   "metadata": {},
   "outputs": [],
   "source": [
    "import tensorflow as tf"
   ]
  },
  {
   "cell_type": "markdown",
   "metadata": {},
   "source": [
    "## Content\n",
    "\n",
    "1. 自制数据集，解决本领域应用。<br>\n",
    "2. 数据增强，扩充数据集。<br>\n",
    "3. 断点续训，存取模型。<br>\n",
    "4. 参数提取，把参数存入文本。<br>\n",
    "5. acc/loss可视化，查看训练效果。<br>\n",
    "6. 应用程序，给图识物。<br>\n",
    "\n",
    "原版结构："
   ]
  },
  {
   "cell_type": "code",
   "execution_count": 2,
   "metadata": {},
   "outputs": [
    {
     "name": "stdout",
     "output_type": "stream",
     "text": [
      "Train on 60000 samples, validate on 10000 samples\n",
      "Epoch 1/5\n",
      "60000/60000 [==============================] - 4s 66us/sample - loss: 0.2562 - sparse_categorical_accuracy: 0.9281 - val_loss: 0.1321 - val_sparse_categorical_accuracy: 0.9602\n",
      "Epoch 2/5\n",
      "60000/60000 [==============================] - 3s 52us/sample - loss: 0.1125 - sparse_categorical_accuracy: 0.9671 - val_loss: 0.0932 - val_sparse_categorical_accuracy: 0.9706\n",
      "Epoch 3/5\n",
      "60000/60000 [==============================] - 3s 50us/sample - loss: 0.0781 - sparse_categorical_accuracy: 0.9762 - val_loss: 0.0814 - val_sparse_categorical_accuracy: 0.9754\n",
      "Epoch 4/5\n",
      "60000/60000 [==============================] - 3s 53us/sample - loss: 0.0577 - sparse_categorical_accuracy: 0.9822 - val_loss: 0.0747 - val_sparse_categorical_accuracy: 0.9764\n",
      "Epoch 5/5\n",
      "60000/60000 [==============================] - 3s 54us/sample - loss: 0.0451 - sparse_categorical_accuracy: 0.9858 - val_loss: 0.0810 - val_sparse_categorical_accuracy: 0.9753\n",
      "Model: \"sequential\"\n",
      "_________________________________________________________________\n",
      "Layer (type)                 Output Shape              Param #   \n",
      "=================================================================\n",
      "flatten (Flatten)            multiple                  0         \n",
      "_________________________________________________________________\n",
      "dense (Dense)                multiple                  100480    \n",
      "_________________________________________________________________\n",
      "dense_1 (Dense)              multiple                  1290      \n",
      "=================================================================\n",
      "Total params: 101,770\n",
      "Trainable params: 101,770\n",
      "Non-trainable params: 0\n",
      "_________________________________________________________________\n"
     ]
    }
   ],
   "source": [
    "import tensorflow as tf\n",
    "\n",
    "mnist = tf.keras.datasets.mnist\n",
    "(x_train, y_train), (x_test, y_test) = mnist.load_data()\n",
    "x_train, x_test = x_train / 255.0, x_test / 255.0\n",
    "\n",
    "model = tf.keras.models.Sequential([\n",
    "    tf.keras.layers.Flatten(),\n",
    "    tf.keras.layers.Dense(128, activation='relu'),\n",
    "    tf.keras.layers.Dense(10, activation='softmax')\n",
    "])\n",
    "\n",
    "model.compile(optimizer='adam',\n",
    "              loss=tf.keras.losses.SparseCategoricalCrossentropy(from_logits=False),\n",
    "              metrics=['sparse_categorical_accuracy'])\n",
    "\n",
    "model.fit(x_train, y_train, batch_size=32, epochs=5, validation_data=(x_test, y_test), validation_freq=1)\n",
    "\n",
    "model.summary()\n"
   ]
  },
  {
   "cell_type": "markdown",
   "metadata": {},
   "source": [
    "## 利用数据/图片自制数据集并使用\n",
    "将找到的图片、数据等进行处理，并存储成.npy文件，方便以后快速导入。"
   ]
  },
  {
   "cell_type": "code",
   "execution_count": 3,
   "metadata": {},
   "outputs": [],
   "source": [
    "from PIL import Image\n",
    "import numpy as np\n",
    "import os\n",
    "\n",
    "# 数据来源位置\n",
    "train_path = './class4/MNIST_FC/mnist_image_label/mnist_train_jpg_60000/'\n",
    "train_txt = './class4/MNIST_FC/mnist_image_label/mnist_train_jpg_60000.txt'\n",
    "test_path = './class4/MNIST_FC/mnist_image_label/mnist_test_jpg_10000/'\n",
    "test_txt = './class4/MNIST_FC/mnist_image_label/mnist_test_jpg_10000.txt'\n",
    "\n",
    "# 处理好后的数据集位置\n",
    "x_train_savepath = './class4/MNIST_FC/mnist_image_label/mnist_x_train.npy'\n",
    "y_train_savepath = './class4/MNIST_FC/mnist_image_label/mnist_y_train.npy'\n",
    "x_test_savepath = './class4/MNIST_FC/mnist_image_label/mnist_x_test.npy'\n",
    "y_test_savepath = './class4/MNIST_FC/mnist_image_label/mnist_y_test.npy'\n",
    "\n",
    "def generateds(path, txt):\n",
    "    f = open(txt, 'r')  # 以只读形式打开txt文件\n",
    "    contents = f.readlines()  # 读取文件中所有行\n",
    "    f.close()  # 关闭txt文件\n",
    "    x, y_ = [], []  # 建立空列表\n",
    "    for content in contents:  # 逐行取出\n",
    "        value = content.split()  # 以空格分开，图片路径为value[0] , 标签为value[1] , 存入列表\n",
    "        img_path = path + value[0]  # 拼出图片路径和文件名\n",
    "        img = Image.open(img_path)  # 读入图片\n",
    "        img = np.array(img.convert('L'))  # 图片变为8位宽灰度值的np.array格式\n",
    "        img = img / 255.  # 数据归一化 （实现预处理）\n",
    "        x.append(img)  # 归一化后的数据，贴到列表x\n",
    "        y_.append(value[1])  # 标签贴到列表y_\n",
    "        #print('loading : ' + content)  # 打印状态提示\n",
    "\n",
    "    x = np.array(x)  # 变为np.array格式\n",
    "    y_ = np.array(y_)  # 变为np.array格式\n",
    "    y_ = y_.astype(np.int64)  # 变为64位整型\n",
    "    print('finished')\n",
    "    return x, y_  # 返回输入特征x，返回标签y_\n",
    "\n",
    "# 之后正常训练操作"
   ]
  },
  {
   "cell_type": "code",
   "execution_count": 4,
   "metadata": {},
   "outputs": [
    {
     "name": "stdout",
     "output_type": "stream",
     "text": [
      "-------------Load Datasets-----------------\n"
     ]
    }
   ],
   "source": [
    "# 若没有数据集，就从原数据建立，有就直接导入使用\n",
    "if os.path.exists(x_train_savepath) and os.path.exists(y_train_savepath) and os.path.exists(\n",
    "        x_test_savepath) and os.path.exists(y_test_savepath):\n",
    "    print('-------------Load Datasets-----------------')\n",
    "    x_train_save = np.load(x_train_savepath)\n",
    "    y_train = np.load(y_train_savepath)\n",
    "    x_test_save = np.load(x_test_savepath)\n",
    "    y_test = np.load(y_test_savepath)\n",
    "    x_train = np.reshape(x_train_save, (len(x_train_save), 28, 28))\n",
    "    x_test = np.reshape(x_test_save, (len(x_test_save), 28, 28))\n",
    "else:\n",
    "    print('-------------Generate Datasets-----------------')\n",
    "    x_train, y_train = generateds(train_path, train_txt)\n",
    "    x_test, y_test = generateds(test_path, test_txt)\n",
    "\n",
    "    print('-------------Save Datasets-----------------')\n",
    "    x_train_save = np.reshape(x_train, (len(x_train), -1))\n",
    "    x_test_save = np.reshape(x_test, (len(x_test), -1))\n",
    "    np.save(x_train_savepath, x_train_save)\n",
    "    np.save(y_train_savepath, y_train)\n",
    "    np.save(x_test_savepath, x_test_save)\n",
    "    np.save(y_test_savepath, y_test)"
   ]
  },
  {
   "cell_type": "markdown",
   "metadata": {},
   "source": [
    "## 数据增强（增大数据量）"
   ]
  },
  {
   "cell_type": "markdown",
   "metadata": {},
   "source": [
    "```python\n",
    "image_gen_train = tf.keras.preprocessing.image.ImageDataGenerator(\n",
    "    rescale = 所有数据将乘以该数值\n",
    "    rotation_range= 随机旋转角度数范围\n",
    "    width_shift_range= 随机宽度偏移量\n",
    "    height_shift_range= 随机高度偏移量\n",
    "    水平翻转：horizontal_flip= 是否随机水平翻转\n",
    "    随机缩放：zoom_range= 随机缩放的范围[1-n，1+n])\n",
    "image_gen_train.fit(x_train)\n",
    "\n",
    "例：\n",
    "\n",
    "image_gen_train = ImageDataGenerator(\n",
    "    rescale=1. / 1., # 如为图像，分母为255时，可归至0～1\n",
    "    rotation_range=45, # 随机45度旋转\n",
    "    width_shift_range=.15, # 宽度偏移\n",
    "    height_shift_range=.15, # 高度偏移\n",
    "    horizontal_flip=False, # 水平翻转\n",
    "    zoom_range=0.5 # 将图像随机缩放阈量50％)\n",
    "\n",
    "image_gen_train.fit(x_train)\n",
    "```"
   ]
  },
  {
   "cell_type": "code",
   "execution_count": 5,
   "metadata": {},
   "outputs": [
    {
     "name": "stdout",
     "output_type": "stream",
     "text": [
      "Train for 1875 steps, validate on 10000 samples\n",
      "Epoch 1/5\n",
      "1875/1875 [==============================] - 14s 7ms/step - loss: 1.4042 - sparse_categorical_accuracy: 0.5477 - val_loss: 0.4637 - val_sparse_categorical_accuracy: 0.8912\n",
      "Epoch 2/5\n",
      "1875/1875 [==============================] - 13s 7ms/step - loss: 0.9475 - sparse_categorical_accuracy: 0.7086 - val_loss: 0.3171 - val_sparse_categorical_accuracy: 0.9230\n",
      "Epoch 3/5\n",
      "1875/1875 [==============================] - 13s 7ms/step - loss: 0.8315 - sparse_categorical_accuracy: 0.7478 - val_loss: 0.2860 - val_sparse_categorical_accuracy: 0.9238\n",
      "Epoch 4/5\n",
      "1875/1875 [==============================] - 13s 7ms/step - loss: 0.7664 - sparse_categorical_accuracy: 0.7693 - val_loss: 0.2536 - val_sparse_categorical_accuracy: 0.9287\n",
      "Epoch 5/5\n",
      "1875/1875 [==============================] - 13s 7ms/step - loss: 0.7230 - sparse_categorical_accuracy: 0.7818 - val_loss: 0.2299 - val_sparse_categorical_accuracy: 0.9326\n",
      "Model: \"sequential_1\"\n",
      "_________________________________________________________________\n",
      "Layer (type)                 Output Shape              Param #   \n",
      "=================================================================\n",
      "flatten_1 (Flatten)          multiple                  0         \n",
      "_________________________________________________________________\n",
      "dense_2 (Dense)              multiple                  100480    \n",
      "_________________________________________________________________\n",
      "dense_3 (Dense)              multiple                  1290      \n",
      "=================================================================\n",
      "Total params: 101,770\n",
      "Trainable params: 101,770\n",
      "Non-trainable params: 0\n",
      "_________________________________________________________________\n"
     ]
    }
   ],
   "source": [
    "from tensorflow.keras.preprocessing.image import ImageDataGenerator\n",
    "\n",
    "mnist = tf.keras.datasets.mnist\n",
    "(x_train, y_train), (x_test, y_test) = mnist.load_data()\n",
    "x_train, x_test = x_train / 255.0, x_test / 255.0\n",
    "# 最后的 1 是单通道数据，是灰度值\n",
    "x_train = x_train.reshape(x_train.shape[0], 28, 28, 1)  # 给数据增加一个维度,从(60000, 28, 28)reshape为(60000, 28, 28, 1)\n",
    "\n",
    "image_gen_train = ImageDataGenerator(\n",
    "    rescale=1. / 1.,  # 如为图像，分母为255时，可归至0～1\n",
    "    rotation_range=45,  # 随机45度旋转\n",
    "    width_shift_range=.15,  # 宽度偏移\n",
    "    height_shift_range=.15,  # 高度偏移\n",
    "    horizontal_flip=False,  # 水平翻转\n",
    "    zoom_range=0.5  # 将图像随机缩放阈量50％\n",
    ")\n",
    "image_gen_train.fit(x_train)\n",
    "\n",
    "model = tf.keras.models.Sequential([\n",
    "    tf.keras.layers.Flatten(),\n",
    "    tf.keras.layers.Dense(128, activation='relu'),\n",
    "    tf.keras.layers.Dense(10, activation='softmax')\n",
    "])\n",
    "\n",
    "model.compile(optimizer='adam',\n",
    "              loss=tf.keras.losses.SparseCategoricalCrossentropy(from_logits=False),\n",
    "              metrics=['sparse_categorical_accuracy'])\n",
    "\n",
    "model.fit(image_gen_train.flow(x_train, y_train, batch_size=32), epochs=5, validation_data=(x_test, y_test),\n",
    "          validation_freq=1)\n",
    "model.summary()"
   ]
  },
  {
   "cell_type": "markdown",
   "metadata": {},
   "source": [
    "## 断点续训，存取模型\n",
    "### 读取模型\n",
    "```load_weights(<path>)```"
   ]
  },
  {
   "cell_type": "markdown",
   "metadata": {},
   "source": [
    "### 保存模型\n",
    "```python\n",
    "tf.keras.callbacks.ModelCheckpoint(\n",
    "    filepath=路径文件名, \n",
    "    save_weights_only=True/False, \n",
    "    save_best_only=True/False)\n",
    "\n",
    "history = model.fit(callbacks=[cp_callback])\n",
    "```\n",
    "下列代码完成一次后会储存模型，再次执行会读取模型，并在此之上继续优化。"
   ]
  },
  {
   "cell_type": "code",
   "execution_count": 21,
   "metadata": {
    "scrolled": false
   },
   "outputs": [
    {
     "name": "stdout",
     "output_type": "stream",
     "text": [
      "-------------load the model-----------------\n",
      "Train on 60000 samples, validate on 10000 samples\n",
      "Epoch 1/5\n",
      "60000/60000 [==============================] - 4s 62us/sample - loss: 0.0101 - sparse_categorical_accuracy: 0.9967 - val_loss: 0.0669 - val_sparse_categorical_accuracy: 0.9813\n",
      "Epoch 2/5\n",
      "60000/60000 [==============================] - 3s 53us/sample - loss: 0.0082 - sparse_categorical_accuracy: 0.9975 - val_loss: 0.0725 - val_sparse_categorical_accuracy: 0.9818\n",
      "Epoch 3/5\n",
      "60000/60000 [==============================] - 3s 53us/sample - loss: 0.0061 - sparse_categorical_accuracy: 0.9982 - val_loss: 0.0751 - val_sparse_categorical_accuracy: 0.9803\n",
      "Epoch 4/5\n",
      "60000/60000 [==============================] - 3s 52us/sample - loss: 0.0063 - sparse_categorical_accuracy: 0.9982 - val_loss: 0.0752 - val_sparse_categorical_accuracy: 0.9804\n",
      "Epoch 5/5\n",
      "60000/60000 [==============================] - 3s 52us/sample - loss: 0.0048 - sparse_categorical_accuracy: 0.9985 - val_loss: 0.0768 - val_sparse_categorical_accuracy: 0.9812\n",
      "Model: \"sequential_10\"\n",
      "_________________________________________________________________\n",
      "Layer (type)                 Output Shape              Param #   \n",
      "=================================================================\n",
      "flatten_10 (Flatten)         multiple                  0         \n",
      "_________________________________________________________________\n",
      "dense_20 (Dense)             multiple                  100480    \n",
      "_________________________________________________________________\n",
      "dense_21 (Dense)             multiple                  1290      \n",
      "=================================================================\n",
      "Total params: 101,770\n",
      "Trainable params: 101,770\n",
      "Non-trainable params: 0\n",
      "_________________________________________________________________\n"
     ]
    }
   ],
   "source": [
    "import os\n",
    "\n",
    "mnist = tf.keras.datasets.mnist\n",
    "(x_train, y_train), (x_test, y_test) = mnist.load_data()\n",
    "x_train, x_test = x_train / 255.0, x_test / 255.0\n",
    "\n",
    "model = tf.keras.models.Sequential([\n",
    "    tf.keras.layers.Flatten(),\n",
    "    tf.keras.layers.Dense(128, activation='relu'),\n",
    "    tf.keras.layers.Dense(10, activation='softmax')\n",
    "])\n",
    "\n",
    "model.compile(optimizer='adam',\n",
    "              loss=tf.keras.losses.SparseCategoricalCrossentropy(from_logits=False),\n",
    "              metrics=['sparse_categorical_accuracy'])\n",
    "\n",
    "checkpoint_save_path = \"./class4/MNIST_FC/checkpoint/mnist.ckpt\"\n",
    "\n",
    "if os.path.exists(checkpoint_save_path + '.index'):\n",
    "    print('-------------load the model-----------------')\n",
    "    model.load_weights(checkpoint_save_path)\n",
    "\n",
    "cp_callback = tf.keras.callbacks.ModelCheckpoint(filepath = checkpoint_save_path,\n",
    "                                                 save_weights_only = True, # if False, also save the model\n",
    "                                                 save_best_only = True)\n",
    "\n",
    "# callbacks = [cp_callback] 会使 model.fit() 每个循环后调用这个函数进行储存\n",
    "history = model.fit(x_train, y_train, batch_size = 32, epochs = 5, validation_data = (x_test, y_test), validation_freq = 1,\n",
    "                    callbacks = [cp_callback])\n",
    "model.summary()"
   ]
  },
  {
   "cell_type": "markdown",
   "metadata": {},
   "source": [
    "### 储存整个模型（结构+权重）\n",
    "### 读取\n",
    "```new_model = tf.keras.models.load_model('saved_model/my_model')```\n",
    "\n",
    "### 保存\n",
    "```cp_callback = tf.keras.callbacks.ModelCheckpoint(filepath = checkpoint_save_path, save_weights_only = True, save_best_only = True)```\n",
    "\n"
   ]
  },
  {
   "cell_type": "markdown",
   "metadata": {},
   "source": [
    "### 另一种储存读取方式\n",
    "### 读取\n",
    "```python\n",
    "from tensorflow.keras.models import load_model\n",
    "new_model = load_model('models/model_1.h5')\n",
    "```\n",
    "\n",
    "### 保存\n",
    "```python\n",
    "import os.path\n",
    "if os.path.isfile('models/model_1.h5') is False:\n",
    "    model.save('models/model_1.h5')\n",
    "```"
   ]
  },
  {
   "cell_type": "markdown",
   "metadata": {},
   "source": [
    "## 参数提取，把参数存入文本\n",
    "若要先直接显示，需要设置可以显示任何大小的值。<br>\n",
    "```np.set_printoptions(threshold = np.inf)```<br>\n",
    "然后返回模型中可训练参数，一个一个写入文本。<br>\n",
    "```model.trainable_variables```<br>\n",
    "这里假设```model```已读取或制作。"
   ]
  },
  {
   "cell_type": "code",
   "execution_count": 10,
   "metadata": {},
   "outputs": [
    {
     "name": "stdout",
     "output_type": "stream",
     "text": [
      "finished\n"
     ]
    }
   ],
   "source": [
    "import os\n",
    "import numpy as np\n",
    "np.set_printoptions(threshold=np.inf)\n",
    "\n",
    "file = open('./class4/MNIST_FC/weights.txt', 'w')\n",
    "for v in model.trainable_variables:\n",
    "    file.write(str(v.name) + '\\n')\n",
    "    file.write(str(v.shape) + '\\n')\n",
    "    file.write(str(v.numpy()) + '\\n')\n",
    "file.close()\n",
    "print('finished')"
   ]
  },
  {
   "cell_type": "markdown",
   "metadata": {},
   "source": [
    "## acc/loss可视化，查看训练效果"
   ]
  },
  {
   "cell_type": "code",
   "execution_count": 11,
   "metadata": {},
   "outputs": [
    {
     "data": {
      "image/png": "[encoded data removed]",
      "text/plain": [
       "<Figure size 432x288 with 2 Axes>"
      ]
     },
     "metadata": {
      "needs_background": "light"
     },
     "output_type": "display_data"
    }
   ],
   "source": [
    "from matplotlib import pyplot as plt\n",
    "\n",
    "acc = history.history['sparse_categorical_accuracy']\n",
    "val_acc = history.history['val_sparse_categorical_accuracy']\n",
    "loss = history.history['loss']\n",
    "val_loss = history.history['val_loss']\n",
    "\n",
    "plt.subplot(1, 2, 1)\n",
    "plt.plot(acc, label='Training Accuracy')\n",
    "plt.plot(val_acc, label='Validation Accuracy')\n",
    "plt.title('Training and Validation Accuracy')\n",
    "plt.legend()\n",
    "\n",
    "plt.subplot(1, 2, 2)\n",
    "plt.plot(loss, label='Training Loss')\n",
    "plt.plot(val_loss, label='Validation Loss')\n",
    "plt.title('Training and Validation Loss')\n",
    "plt.legend()\n",
    "plt.show()"
   ]
  },
  {
   "cell_type": "markdown",
   "metadata": {},
   "source": [
    "## 应用程序，给图识物"
   ]
  },
  {
   "cell_type": "code",
   "execution_count": 24,
   "metadata": {
    "scrolled": false
   },
   "outputs": [
    {
     "name": "stdout",
     "output_type": "stream",
     "text": [
      "./class4/MNIST_FC/0.png\n",
      "img_arr: (28, 28)\n",
      "x_predict: (1, 28, 28)\n",
      "[[8.2527089e-01 2.7879037e-06 4.0088333e-05 4.3231152e-10 1.9182038e-03\n",
      "  3.3009192e-04 4.9146940e-03 2.1671095e-04 6.6035762e-05 1.6724063e-01]]\n",
      "[0]\n",
      "\n",
      "\n",
      "./class4/MNIST_FC/1.png\n",
      "img_arr: (28, 28)\n",
      "x_predict: (1, 28, 28)\n",
      "[[1.1132483e-08 9.9948126e-01 5.6100833e-07 6.7488071e-07 4.6845744e-04\n",
      "  7.7796731e-06 4.0511654e-06 2.3030063e-05 6.0645498e-06 8.2550350e-06]]\n",
      "[1]\n",
      "\n",
      "\n",
      "./class4/MNIST_FC/2.png\n",
      "img_arr: (28, 28)\n",
      "x_predict: (1, 28, 28)\n",
      "[[1.2206207e-08 8.3472141e-06 9.6442741e-01 1.4216542e-02 3.9667852e-06\n",
      "  1.3761855e-04 1.4894153e-08 2.1161381e-02 3.8065074e-05 6.5546783e-06]]\n",
      "[2]\n",
      "\n",
      "\n",
      "./class4/MNIST_FC/3.png\n",
      "img_arr: (28, 28)\n",
      "x_predict: (1, 28, 28)\n",
      "[[3.4041118e-13 6.1069955e-11 3.1129406e-07 9.9963760e-01 6.9293779e-11\n",
      "  1.5125230e-04 2.4022396e-12 6.2914318e-09 6.9687980e-05 1.4110545e-04]]\n",
      "[3]\n",
      "\n",
      "\n",
      "./class4/MNIST_FC/4.png\n",
      "img_arr: (28, 28)\n",
      "x_predict: (1, 28, 28)\n",
      "[[2.7611177e-06 7.6275223e-06 6.4276387e-03 4.3290338e-06 9.7365719e-01\n",
      "  1.8302372e-04 8.1613231e-03 1.1185675e-02 8.5304731e-05 2.8512548e-04]]\n",
      "[4]\n",
      "\n",
      "\n",
      "./class4/MNIST_FC/5.png\n",
      "img_arr: (28, 28)\n",
      "x_predict: (1, 28, 28)\n",
      "[[1.6992783e-05 1.4303483e-06 2.6789388e-07 8.4519517e-03 1.2819040e-06\n",
      "  9.9136424e-01 9.5915914e-07 3.7346666e-08 1.2459492e-04 3.8222825e-05]]\n",
      "[5]\n",
      "\n",
      "\n",
      "./class4/MNIST_FC/6.png\n",
      "img_arr: (28, 28)\n",
      "x_predict: (1, 28, 28)\n",
      "[[4.6802406e-06 4.8008532e-04 4.2410740e-03 2.5528770e-06 5.7723559e-05\n",
      "  1.4879827e-04 9.8136985e-01 2.5148517e-10 1.3693724e-02 1.5544362e-06]]\n",
      "[6]\n",
      "\n",
      "\n",
      "./class4/MNIST_FC/7.png\n",
      "img_arr: (28, 28)\n",
      "x_predict: (1, 28, 28)\n",
      "[[2.17885932e-09 1.15500735e-02 4.67175385e-04 1.17108156e-03\n",
      "  2.84173325e-07 4.79460228e-04 6.89039936e-08 9.82291937e-01\n",
      "  5.45664589e-05 3.98528250e-03]]\n",
      "[7]\n",
      "\n",
      "\n",
      "./class4/MNIST_FC/8.png\n",
      "img_arr: (28, 28)\n",
      "x_predict: (1, 28, 28)\n",
      "[[1.9722357e-07 6.2642740e-09 2.6398508e-03 1.1278094e-02 3.9883885e-06\n",
      "  1.1527271e-02 2.6907555e-06 2.5822781e-04 9.7084463e-01 3.4450148e-03]]\n",
      "[8]\n",
      "\n",
      "\n",
      "./class4/MNIST_FC/9.png\n",
      "img_arr: (28, 28)\n",
      "x_predict: (1, 28, 28)\n",
      "[[2.6318450e-14 7.7123898e-12 7.7216731e-09 6.8301933e-06 5.6414184e-08\n",
      "  1.1220028e-05 1.8622193e-13 4.7774471e-08 1.7334356e-05 9.9996459e-01]]\n",
      "[9]\n",
      "\n",
      "\n"
     ]
    }
   ],
   "source": [
    "from PIL import Image\n",
    "import numpy as np\n",
    "\n",
    "model_save_path = \"./class4/MNIST_FC/checkpoint/mnist.ckpt\"\n",
    "\n",
    "model = tf.keras.models.Sequential([\n",
    "    tf.keras.layers.Flatten(),\n",
    "    tf.keras.layers.Dense(128, activation='relu'),\n",
    "    tf.keras.layers.Dense(10, activation='softmax')])\n",
    "    \n",
    "model.load_weights(model_save_path)\n",
    "\n",
    "for i in range(10):\n",
    "    # 循环识别所有图片\n",
    "    image_path = \"./class4/MNIST_FC/\" + str(i) + \".png\"\n",
    "    print(image_path)\n",
    "    img = Image.open(image_path)\n",
    "    \n",
    "    # 进行预处理\n",
    "    # 转化为28*28的小图，并转成灰度图\n",
    "    img = img.resize((28, 28), Image.ANTIALIAS)\n",
    "    img_arr = np.array(img.convert('L'))\n",
    "    \n",
    "    # 训练集是黑底白字，测试是白底黑字，所以颜色取反。这里和下面取一个做就行。\n",
    "    # img_arr = 255 - img_arr\n",
    "    \n",
    "    # 可以使用以下代码提高图片对比度到极致\n",
    "    for i in range(28):\n",
    "        for j in range(28):\n",
    "            if img_arr[i][j] < 200:\n",
    "                img_arr[i][j] = 255\n",
    "            else:\n",
    "                img_arr[i][j] = 0\n",
    "                \n",
    "    img_arr = img_arr / 255.0\n",
    "    print(\"img_arr:\",img_arr.shape)\n",
    "    \n",
    "    # 输入需要是(图片总数，宽，高)的格式，所以人为添加一个图片总数。\n",
    "    x_predict = img_arr[tf.newaxis, ...]\n",
    "    print(\"x_predict:\",x_predict.shape)\n",
    "    result = model.predict(x_predict)\n",
    "    print(result)\n",
    "    pred = tf.argmax(result, axis=1)\n",
    "    \n",
    "    tf.print(pred)\n",
    "    print('\\n')"
   ]
  },
  {
   "cell_type": "markdown",
   "metadata": {},
   "source": [
    "## Fashion dataset example"
   ]
  },
  {
   "cell_type": "markdown",
   "metadata": {},
   "source": [
    "### Train model"
   ]
  },
  {
   "cell_type": "code",
   "execution_count": 42,
   "metadata": {},
   "outputs": [
    {
     "name": "stdout",
     "output_type": "stream",
     "text": [
      "-------------load the model-----------------\n",
      "Train on 60000 samples, validate on 10000 samples\n",
      "Epoch 1/5\n",
      "60000/60000 [==============================] - 4s 74us/sample - loss: 0.2011 - sparse_categorical_accuracy: 0.9237 - val_loss: 0.3488 - val_sparse_categorical_accuracy: 0.8811\n",
      "Epoch 2/5\n",
      "60000/60000 [==============================] - 3s 53us/sample - loss: 0.1981 - sparse_categorical_accuracy: 0.9250 - val_loss: 0.3583 - val_sparse_categorical_accuracy: 0.8787\n",
      "Epoch 3/5\n",
      "60000/60000 [==============================] - 3s 52us/sample - loss: 0.1924 - sparse_categorical_accuracy: 0.9285 - val_loss: 0.3722 - val_sparse_categorical_accuracy: 0.8793\n",
      "Epoch 4/5\n",
      "60000/60000 [==============================] - 3s 55us/sample - loss: 0.1862 - sparse_categorical_accuracy: 0.9305 - val_loss: 0.3483 - val_sparse_categorical_accuracy: 0.8892\n",
      "Epoch 5/5\n",
      "60000/60000 [==============================] - 3s 52us/sample - loss: 0.1803 - sparse_categorical_accuracy: 0.9316 - val_loss: 0.3546 - val_sparse_categorical_accuracy: 0.8847\n",
      "Model: \"sequential_28\"\n",
      "_________________________________________________________________\n",
      "Layer (type)                 Output Shape              Param #   \n",
      "=================================================================\n",
      "flatten_28 (Flatten)         multiple                  0         \n",
      "_________________________________________________________________\n",
      "dense_56 (Dense)             multiple                  100480    \n",
      "_________________________________________________________________\n",
      "dense_57 (Dense)             multiple                  1290      \n",
      "=================================================================\n",
      "Total params: 101,770\n",
      "Trainable params: 101,770\n",
      "Non-trainable params: 0\n",
      "_________________________________________________________________\n"
     ]
    }
   ],
   "source": [
    "from tensorflow.keras.preprocessing.image import ImageDataGenerator\n",
    "\n",
    "\n",
    "os.chdir(\"D:\\Programming\\python\\Tensorflow Tutorial\\class4\\FASHION_FC\")\n",
    "\n",
    "fashion = tf.keras.datasets.fashion_mnist\n",
    "(x_train, y_train), (x_test, y_test) = fashion.load_data()\n",
    "x_train, x_test = x_train / 255.0, x_test / 255.0\n",
    "# 最后的 1 是单通道数据，是灰度值\n",
    "x_train = x_train.reshape(x_train.shape[0], 28, 28, 1)  # 给数据增加一个维度,从(60000, 28, 28)reshape为(60000, 28, 28, 1)\n",
    "\n",
    "image_gen_train = ImageDataGenerator(\n",
    "    rescale=1. / 1.,  # 如为图像，分母为255时，可归至0～1\n",
    "    rotation_range=45,  # 随机45度旋转\n",
    "    width_shift_range=.15,  # 宽度偏移\n",
    "    height_shift_range=.15,  # 高度偏移\n",
    "    horizontal_flip=False,  # 水平翻转\n",
    "    zoom_range=0.5  # 将图像随机缩放阈量50％\n",
    ")\n",
    "image_gen_train.fit(x_train)\n",
    "\n",
    "model = tf.keras.models.Sequential([\n",
    "    tf.keras.layers.Flatten(),\n",
    "    tf.keras.layers.Dense(128, activation='relu'),\n",
    "    tf.keras.layers.Dense(10, activation='softmax')\n",
    "])\n",
    "\n",
    "model.compile(optimizer='adam',\n",
    "              loss=tf.keras.losses.SparseCategoricalCrossentropy(from_logits=False),\n",
    "              metrics=['sparse_categorical_accuracy'])\n",
    "\n",
    "checkpoint_save_path = \"./checkpoint/fashion.ckpt\"\n",
    "\n",
    "if os.path.exists(checkpoint_save_path + '.index'):\n",
    "    print('-------------load the model-----------------')\n",
    "    model.load_weights(checkpoint_save_path)\n",
    "\n",
    "cp_callback = tf.keras.callbacks.ModelCheckpoint(filepath = checkpoint_save_path,\n",
    "                                                 save_weights_only = True,\n",
    "                                                 save_best_only = True)\n",
    "\n",
    "# callbacks = [cp_callback] 会使 model.fit() 执行后调用这个函数进行储存\n",
    "history = model.fit(x_train, y_train, batch_size = 32, epochs = 5, validation_data = (x_test, y_test), validation_freq = 1,\n",
    "                    callbacks = [cp_callback])\n",
    "model.summary()"
   ]
  },
  {
   "cell_type": "code",
   "execution_count": 33,
   "metadata": {},
   "outputs": [
    {
     "data": {
      "image/png": "[encoded data removed]",
      "text/plain": [
       "<Figure size 432x288 with 2 Axes>"
      ]
     },
     "metadata": {
      "needs_background": "light"
     },
     "output_type": "display_data"
    }
   ],
   "source": [
    "from matplotlib import pyplot as plt\n",
    "\n",
    "acc = history.history['sparse_categorical_accuracy']\n",
    "val_acc = history.history['val_sparse_categorical_accuracy']\n",
    "loss = history.history['loss']\n",
    "val_loss = history.history['val_loss']\n",
    "\n",
    "plt.subplot(1, 2, 1)\n",
    "plt.plot(acc, label='Training Accuracy')\n",
    "plt.plot(val_acc, label='Validation Accuracy')\n",
    "plt.title('Training and Validation Accuracy')\n",
    "plt.legend()\n",
    "\n",
    "plt.subplot(1, 2, 2)\n",
    "plt.plot(loss, label='Training Loss')\n",
    "plt.plot(val_loss, label='Validation Loss')\n",
    "plt.title('Training and Validation Loss')\n",
    "plt.legend()\n",
    "plt.show()"
   ]
  },
  {
   "cell_type": "markdown",
   "metadata": {},
   "source": [
    "### Test the model"
   ]
  },
  {
   "cell_type": "code",
   "execution_count": 43,
   "metadata": {},
   "outputs": [
    {
     "name": "stdout",
     "output_type": "stream",
     "text": [
      "img_arr: (28, 28)\n",
      "x_predict: (1, 28, 28)\n",
      "[[3.6271176e-01 7.8696063e-09 1.4920788e-03 1.2413437e-06 5.0025224e-05\n",
      "  1.5177339e-12 6.3572693e-01 9.9024792e-15 1.7956210e-05 4.1407822e-11]]\n",
      "[6]\n",
      "\n",
      "\n",
      "img_arr: (28, 28)\n",
      "x_predict: (1, 28, 28)\n",
      "[[1.5763607e-09 9.9999952e-01 2.5978469e-11 4.2570593e-07 4.9734167e-10\n",
      "  1.0698975e-20 2.0269509e-08 2.1641141e-21 2.4519518e-15 5.4540840e-23]]\n",
      "[1]\n",
      "\n",
      "\n",
      "img_arr: (28, 28)\n",
      "x_predict: (1, 28, 28)\n",
      "[[1.6074850e-08 9.3376376e-11 6.1756015e-01 7.9127443e-07 3.8243657e-01\n",
      "  1.6017358e-17 1.7187785e-06 6.1797521e-15 7.4045948e-07 5.0246228e-14]]\n",
      "[2]\n",
      "\n",
      "\n",
      "img_arr: (28, 28)\n",
      "x_predict: (1, 28, 28)\n",
      "[[1.8471545e-16 2.4581182e-08 1.0605775e-09 9.9999940e-01 5.6299200e-08\n",
      "  8.0874860e-19 9.0018976e-10 7.1034846e-16 5.8693985e-07 4.2781801e-17]]\n",
      "[3]\n",
      "\n",
      "\n",
      "img_arr: (28, 28)\n",
      "x_predict: (1, 28, 28)\n",
      "[[8.1785238e-06 1.5076422e-08 7.9346053e-02 3.0785341e-13 9.1185379e-01\n",
      "  1.3671915e-09 8.7403897e-03 6.0748672e-13 5.1638326e-05 6.4833507e-12]]\n",
      "[4]\n",
      "\n",
      "\n",
      "img_arr: (28, 28)\n",
      "x_predict: (1, 28, 28)\n",
      "[[1.3976945e-14 7.8326193e-21 1.1851760e-15 1.0009571e-24 5.7839037e-12\n",
      "  1.0000000e+00 1.9852148e-13 4.7789714e-09 3.0716238e-10 2.7065342e-14]]\n",
      "[5]\n",
      "\n",
      "\n",
      "img_arr: (28, 28)\n",
      "x_predict: (1, 28, 28)\n",
      "[[3.4309891e-01 3.9822412e-06 9.4050309e-04 1.2565982e-04 1.1815761e-03\n",
      "  7.5241986e-11 6.5464908e-01 1.2487572e-16 3.4941488e-07 1.4267584e-14]]\n",
      "[6]\n",
      "\n",
      "\n",
      "img_arr: (28, 28)\n",
      "x_predict: (1, 28, 28)\n",
      "[[1.3818094e-01 7.4434148e-08 5.3885154e-04 1.0335076e-05 3.4443307e-04\n",
      "  1.7947635e-02 2.6513023e-02 7.5562906e-01 2.0327853e-04 6.0632307e-02]]\n",
      "[7]\n",
      "\n",
      "\n",
      "img_arr: (28, 28)\n",
      "x_predict: (1, 28, 28)\n",
      "[[2.9833823e-06 2.4042890e-16 2.5225109e-08 2.1580948e-16 1.6347157e-07\n",
      "  4.2640544e-11 1.1838878e-05 1.3215315e-12 9.9998498e-01 1.3971571e-13]]\n",
      "[8]\n",
      "\n",
      "\n",
      "img_arr: (28, 28)\n",
      "x_predict: (1, 28, 28)\n",
      "[[5.6238223e-17 1.0665359e-28 2.0119979e-28 1.9667860e-27 1.3178860e-20\n",
      "  7.0708751e-11 1.8467996e-20 2.5378174e-16 4.9550068e-31 1.0000000e+00]]\n",
      "[9]\n",
      "\n",
      "\n"
     ]
    }
   ],
   "source": [
    "from PIL import Image\n",
    "import numpy as np\n",
    "import glob\n",
    "\n",
    "model_save_path = \"./checkpoint/fashion.ckpt\"\n",
    "\n",
    "model = tf.keras.models.Sequential([\n",
    "    tf.keras.layers.Flatten(),\n",
    "    tf.keras.layers.Dense(128, activation='relu'),\n",
    "    tf.keras.layers.Dense(10, activation='softmax')])\n",
    "    \n",
    "model.load_weights(model_save_path)\n",
    "\n",
    "for file in glob.glob(\"*.jpeg\"):\n",
    "    # 循环识别所有图片\n",
    "    img = Image.open(file)\n",
    "    \n",
    "    # 进行预处理\n",
    "    # 转化为28*28的小图，并转成灰度图\n",
    "    img = img.resize((28, 28), Image.ANTIALIAS)\n",
    "    img_arr = np.array(img.convert('L'))\n",
    "    \n",
    "    # 训练集是黑底白字，测试是白底黑字，所以颜色取反。这里和下面取一个做就行。\n",
    "    # img_arr = 255 - img_arr\n",
    "    \n",
    "    # 可以使用以下代码提高图片对比度到极致\n",
    "    for i in range(28):\n",
    "        for j in range(28):\n",
    "            if img_arr[i][j] < 200:\n",
    "                img_arr[i][j] = 255\n",
    "            else:\n",
    "                img_arr[i][j] = 0\n",
    "                \n",
    "    img_arr = img_arr / 255.0\n",
    "    print(\"img_arr:\",img_arr.shape)\n",
    "    \n",
    "    # 输入需要是(图片总数，宽，高)的格式，所以人为添加一个图片总数。\n",
    "    x_predict = img_arr[tf.newaxis, ...]\n",
    "    print(\"x_predict:\", x_predict.shape)\n",
    "    result = model.predict(x_predict)\n",
    "    print(result)\n",
    "    pred = tf.argmax(result, axis=1)\n",
    "    \n",
    "    tf.print(pred)\n",
    "    print('\\n')"
   ]
  }
 ],
 "metadata": {
  "kernelspec": {
   "display_name": "Python 3",
   "language": "python",
   "name": "python3"
  },
  "language_info": {
   "codemirror_mode": {
    "name": "ipython",
    "version": 3
   },
   "file_extension": ".py",
   "mimetype": "text/x-python",
   "name": "python",
   "nbconvert_exporter": "python",
   "pygments_lexer": "ipython3",
   "version": "3.7.7"
  }
 },
 "nbformat": 4,
 "nbformat_minor": 4
}
